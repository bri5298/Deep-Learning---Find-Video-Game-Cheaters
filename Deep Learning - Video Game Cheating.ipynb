{
 "cells": [
  {
   "cell_type": "markdown",
   "id": "2623f743",
   "metadata": {},
   "source": [
    "## Imports "
   ]
  },
  {
   "cell_type": "code",
   "execution_count": null,
   "id": "a3157767",
   "metadata": {},
   "outputs": [],
   "source": [
    "import sys\n",
    "import os\n",
    "if os.getcwd().endswith('notebooks'):\n",
    "    os.chdir(\"..\")\n",
    "print(os.getcwd())"
   ]
  },
  {
   "cell_type": "code",
   "execution_count": 161,
   "id": "5d445963",
   "metadata": {},
   "outputs": [],
   "source": [
    "import numpy as np\n",
    "import pandas as pd\n",
    "import matplotlib.pyplot as plt\n",
    "import random\n",
    "import sklearn\n",
    "from sklearn.model_selection import train_test_split\n",
    "from sklearn import preprocessing\n",
    "from sklearn.metrics import confusion_matrix\n",
    "import seaborn as sns\n",
    "from sklearn.decomposition import PCA\n",
    "from tensorflow.keras.models import Sequential\n",
    "from tensorflow.keras.layers import Dense"
   ]
  },
  {
   "cell_type": "markdown",
   "id": "7e17a04e",
   "metadata": {},
   "source": [
    "## Import the Data "
   ]
  },
  {
   "cell_type": "code",
   "execution_count": 7,
   "id": "2c0c0781",
   "metadata": {},
   "outputs": [
    {
     "data": {
      "text/html": [
       "<div>\n",
       "<style scoped>\n",
       "    .dataframe tbody tr th:only-of-type {\n",
       "        vertical-align: middle;\n",
       "    }\n",
       "\n",
       "    .dataframe tbody tr th {\n",
       "        vertical-align: top;\n",
       "    }\n",
       "\n",
       "    .dataframe thead th {\n",
       "        text-align: right;\n",
       "    }\n",
       "</style>\n",
       "<table border=\"1\" class=\"dataframe\">\n",
       "  <thead>\n",
       "    <tr style=\"text-align: right;\">\n",
       "      <th></th>\n",
       "      <th>win_ratio</th>\n",
       "      <th>total_accuracy</th>\n",
       "      <th>kill_to_death_ratio</th>\n",
       "      <th>total_wins_per_hour</th>\n",
       "      <th>mvp_per_round</th>\n",
       "      <th>total_headshots_per_round</th>\n",
       "      <th>accuracy_ssg08</th>\n",
       "      <th>accuracy_awp</th>\n",
       "      <th>accuracy_deagle</th>\n",
       "      <th>accuracy_aug</th>\n",
       "      <th>...</th>\n",
       "      <th>accuracy_nova</th>\n",
       "      <th>accuracy_p250</th>\n",
       "      <th>accuracy_p90</th>\n",
       "      <th>accuracy_sawedoff</th>\n",
       "      <th>accuracy_sg556</th>\n",
       "      <th>accuracy_tec9</th>\n",
       "      <th>accuracy_ump45</th>\n",
       "      <th>accuracy_xm1014</th>\n",
       "      <th>total_games_owned</th>\n",
       "      <th>VACBanned</th>\n",
       "    </tr>\n",
       "  </thead>\n",
       "  <tbody>\n",
       "    <tr>\n",
       "      <th>0</th>\n",
       "      <td>0.57</td>\n",
       "      <td>0.20</td>\n",
       "      <td>1.68</td>\n",
       "      <td>17.19</td>\n",
       "      <td>0.15</td>\n",
       "      <td>0.95</td>\n",
       "      <td>0.32</td>\n",
       "      <td>0.40</td>\n",
       "      <td>0.27</td>\n",
       "      <td>0.23</td>\n",
       "      <td>...</td>\n",
       "      <td>0.22</td>\n",
       "      <td>0.22</td>\n",
       "      <td>0.20</td>\n",
       "      <td>0.19</td>\n",
       "      <td>0.21</td>\n",
       "      <td>0.21</td>\n",
       "      <td>0.20</td>\n",
       "      <td>0.22</td>\n",
       "      <td>79</td>\n",
       "      <td>0</td>\n",
       "    </tr>\n",
       "    <tr>\n",
       "      <th>1</th>\n",
       "      <td>0.46</td>\n",
       "      <td>0.13</td>\n",
       "      <td>0.65</td>\n",
       "      <td>17.55</td>\n",
       "      <td>0.05</td>\n",
       "      <td>0.26</td>\n",
       "      <td>0.22</td>\n",
       "      <td>0.28</td>\n",
       "      <td>0.13</td>\n",
       "      <td>0.14</td>\n",
       "      <td>...</td>\n",
       "      <td>0.24</td>\n",
       "      <td>0.12</td>\n",
       "      <td>0.15</td>\n",
       "      <td>0.08</td>\n",
       "      <td>0.11</td>\n",
       "      <td>0.19</td>\n",
       "      <td>0.19</td>\n",
       "      <td>0.09</td>\n",
       "      <td>12</td>\n",
       "      <td>1</td>\n",
       "    </tr>\n",
       "    <tr>\n",
       "      <th>2</th>\n",
       "      <td>0.51</td>\n",
       "      <td>0.15</td>\n",
       "      <td>0.46</td>\n",
       "      <td>22.48</td>\n",
       "      <td>0.09</td>\n",
       "      <td>0.54</td>\n",
       "      <td>0.20</td>\n",
       "      <td>0.25</td>\n",
       "      <td>0.21</td>\n",
       "      <td>0.27</td>\n",
       "      <td>...</td>\n",
       "      <td>0.22</td>\n",
       "      <td>0.23</td>\n",
       "      <td>0.17</td>\n",
       "      <td>0.20</td>\n",
       "      <td>0.20</td>\n",
       "      <td>0.18</td>\n",
       "      <td>0.44</td>\n",
       "      <td>0.20</td>\n",
       "      <td>88</td>\n",
       "      <td>1</td>\n",
       "    </tr>\n",
       "    <tr>\n",
       "      <th>3</th>\n",
       "      <td>0.52</td>\n",
       "      <td>0.20</td>\n",
       "      <td>1.04</td>\n",
       "      <td>16.32</td>\n",
       "      <td>0.08</td>\n",
       "      <td>0.82</td>\n",
       "      <td>0.28</td>\n",
       "      <td>0.34</td>\n",
       "      <td>0.25</td>\n",
       "      <td>0.21</td>\n",
       "      <td>...</td>\n",
       "      <td>0.18</td>\n",
       "      <td>0.20</td>\n",
       "      <td>0.17</td>\n",
       "      <td>0.15</td>\n",
       "      <td>0.21</td>\n",
       "      <td>0.16</td>\n",
       "      <td>0.18</td>\n",
       "      <td>0.17</td>\n",
       "      <td>57</td>\n",
       "      <td>1</td>\n",
       "    </tr>\n",
       "    <tr>\n",
       "      <th>4</th>\n",
       "      <td>0.51</td>\n",
       "      <td>0.24</td>\n",
       "      <td>1.35</td>\n",
       "      <td>23.18</td>\n",
       "      <td>0.16</td>\n",
       "      <td>0.60</td>\n",
       "      <td>0.32</td>\n",
       "      <td>0.44</td>\n",
       "      <td>0.32</td>\n",
       "      <td>0.25</td>\n",
       "      <td>...</td>\n",
       "      <td>0.21</td>\n",
       "      <td>0.27</td>\n",
       "      <td>0.18</td>\n",
       "      <td>0.08</td>\n",
       "      <td>0.43</td>\n",
       "      <td>0.13</td>\n",
       "      <td>0.16</td>\n",
       "      <td>0.27</td>\n",
       "      <td>242</td>\n",
       "      <td>1</td>\n",
       "    </tr>\n",
       "  </tbody>\n",
       "</table>\n",
       "<p>5 rows × 37 columns</p>\n",
       "</div>"
      ],
      "text/plain": [
       "   win_ratio  total_accuracy  kill_to_death_ratio  total_wins_per_hour  \\\n",
       "0       0.57            0.20                 1.68                17.19   \n",
       "1       0.46            0.13                 0.65                17.55   \n",
       "2       0.51            0.15                 0.46                22.48   \n",
       "3       0.52            0.20                 1.04                16.32   \n",
       "4       0.51            0.24                 1.35                23.18   \n",
       "\n",
       "   mvp_per_round  total_headshots_per_round  accuracy_ssg08  accuracy_awp  \\\n",
       "0           0.15                       0.95            0.32          0.40   \n",
       "1           0.05                       0.26            0.22          0.28   \n",
       "2           0.09                       0.54            0.20          0.25   \n",
       "3           0.08                       0.82            0.28          0.34   \n",
       "4           0.16                       0.60            0.32          0.44   \n",
       "\n",
       "   accuracy_deagle  accuracy_aug  ...  accuracy_nova  accuracy_p250  \\\n",
       "0             0.27          0.23  ...           0.22           0.22   \n",
       "1             0.13          0.14  ...           0.24           0.12   \n",
       "2             0.21          0.27  ...           0.22           0.23   \n",
       "3             0.25          0.21  ...           0.18           0.20   \n",
       "4             0.32          0.25  ...           0.21           0.27   \n",
       "\n",
       "   accuracy_p90  accuracy_sawedoff  accuracy_sg556  accuracy_tec9  \\\n",
       "0          0.20               0.19            0.21           0.21   \n",
       "1          0.15               0.08            0.11           0.19   \n",
       "2          0.17               0.20            0.20           0.18   \n",
       "3          0.17               0.15            0.21           0.16   \n",
       "4          0.18               0.08            0.43           0.13   \n",
       "\n",
       "   accuracy_ump45  accuracy_xm1014  total_games_owned  VACBanned  \n",
       "0            0.20             0.22                 79          0  \n",
       "1            0.19             0.09                 12          1  \n",
       "2            0.44             0.20                 88          1  \n",
       "3            0.18             0.17                 57          1  \n",
       "4            0.16             0.27                242          1  \n",
       "\n",
       "[5 rows x 37 columns]"
      ]
     },
     "execution_count": 7,
     "metadata": {},
     "output_type": "execute_result"
    }
   ],
   "source": [
    "df = pd.read_csv(os.path.join('data', 'gaming_cheaters.csv'))\n",
    "df.head()"
   ]
  },
  {
   "cell_type": "markdown",
   "id": "b1bf1d93",
   "metadata": {},
   "source": [
    "## View the features with the largest difference between Label==1 and Label==0 "
   ]
  },
  {
   "cell_type": "code",
   "execution_count": 8,
   "id": "76cd80f9",
   "metadata": {},
   "outputs": [
    {
     "data": {
      "text/plain": [
       "Index(['total_games_owned', 'total_wins_per_hour', 'total_headshots_per_round',\n",
       "       'kill_to_death_ratio', 'mvp_per_round', 'win_ratio', 'accuracy_tec9',\n",
       "       'accuracy_xm1014', 'accuracy_m249', 'accuracy_m4a1'],\n",
       "      dtype='object')"
      ]
     },
     "execution_count": 8,
     "metadata": {},
     "output_type": "execute_result"
    }
   ],
   "source": [
    "grouped = df.groupby('VACBanned').mean()\n",
    "diff_between_label_means = grouped.diff(axis=0).loc[1].abs().sort_values(ascending=False)\n",
    "diff_between_label_means[:10].index"
   ]
  },
  {
   "cell_type": "markdown",
   "id": "edc3c814",
   "metadata": {},
   "source": [
    "## Keep only the columns with a big difference between the means of label==0 and label==1 "
   ]
  },
  {
   "cell_type": "code",
   "execution_count": 9,
   "id": "5ad7812b",
   "metadata": {},
   "outputs": [
    {
     "data": {
      "text/html": [
       "<div>\n",
       "<style scoped>\n",
       "    .dataframe tbody tr th:only-of-type {\n",
       "        vertical-align: middle;\n",
       "    }\n",
       "\n",
       "    .dataframe tbody tr th {\n",
       "        vertical-align: top;\n",
       "    }\n",
       "\n",
       "    .dataframe thead th {\n",
       "        text-align: right;\n",
       "    }\n",
       "</style>\n",
       "<table border=\"1\" class=\"dataframe\">\n",
       "  <thead>\n",
       "    <tr style=\"text-align: right;\">\n",
       "      <th></th>\n",
       "      <th>total_games_owned</th>\n",
       "      <th>total_wins_per_hour</th>\n",
       "      <th>total_headshots_per_round</th>\n",
       "      <th>kill_to_death_ratio</th>\n",
       "      <th>mvp_per_round</th>\n",
       "      <th>win_ratio</th>\n",
       "      <th>accuracy_tec9</th>\n",
       "      <th>accuracy_xm1014</th>\n",
       "      <th>accuracy_m249</th>\n",
       "      <th>accuracy_m4a1</th>\n",
       "      <th>VACBanned</th>\n",
       "    </tr>\n",
       "  </thead>\n",
       "  <tbody>\n",
       "    <tr>\n",
       "      <th>0</th>\n",
       "      <td>79</td>\n",
       "      <td>17.19</td>\n",
       "      <td>0.95</td>\n",
       "      <td>1.68</td>\n",
       "      <td>0.15</td>\n",
       "      <td>0.57</td>\n",
       "      <td>0.21</td>\n",
       "      <td>0.22</td>\n",
       "      <td>0.15</td>\n",
       "      <td>0.19</td>\n",
       "      <td>0</td>\n",
       "    </tr>\n",
       "    <tr>\n",
       "      <th>1</th>\n",
       "      <td>12</td>\n",
       "      <td>17.55</td>\n",
       "      <td>0.26</td>\n",
       "      <td>0.65</td>\n",
       "      <td>0.05</td>\n",
       "      <td>0.46</td>\n",
       "      <td>0.19</td>\n",
       "      <td>0.09</td>\n",
       "      <td>0.13</td>\n",
       "      <td>0.10</td>\n",
       "      <td>1</td>\n",
       "    </tr>\n",
       "    <tr>\n",
       "      <th>2</th>\n",
       "      <td>88</td>\n",
       "      <td>22.48</td>\n",
       "      <td>0.54</td>\n",
       "      <td>0.46</td>\n",
       "      <td>0.09</td>\n",
       "      <td>0.51</td>\n",
       "      <td>0.18</td>\n",
       "      <td>0.20</td>\n",
       "      <td>0.19</td>\n",
       "      <td>0.13</td>\n",
       "      <td>1</td>\n",
       "    </tr>\n",
       "    <tr>\n",
       "      <th>3</th>\n",
       "      <td>57</td>\n",
       "      <td>16.32</td>\n",
       "      <td>0.82</td>\n",
       "      <td>1.04</td>\n",
       "      <td>0.08</td>\n",
       "      <td>0.52</td>\n",
       "      <td>0.16</td>\n",
       "      <td>0.17</td>\n",
       "      <td>0.16</td>\n",
       "      <td>0.21</td>\n",
       "      <td>1</td>\n",
       "    </tr>\n",
       "    <tr>\n",
       "      <th>4</th>\n",
       "      <td>242</td>\n",
       "      <td>23.18</td>\n",
       "      <td>0.60</td>\n",
       "      <td>1.35</td>\n",
       "      <td>0.16</td>\n",
       "      <td>0.51</td>\n",
       "      <td>0.13</td>\n",
       "      <td>0.27</td>\n",
       "      <td>0.15</td>\n",
       "      <td>0.23</td>\n",
       "      <td>1</td>\n",
       "    </tr>\n",
       "    <tr>\n",
       "      <th>...</th>\n",
       "      <td>...</td>\n",
       "      <td>...</td>\n",
       "      <td>...</td>\n",
       "      <td>...</td>\n",
       "      <td>...</td>\n",
       "      <td>...</td>\n",
       "      <td>...</td>\n",
       "      <td>...</td>\n",
       "      <td>...</td>\n",
       "      <td>...</td>\n",
       "      <td>...</td>\n",
       "    </tr>\n",
       "    <tr>\n",
       "      <th>977</th>\n",
       "      <td>38</td>\n",
       "      <td>23.80</td>\n",
       "      <td>0.48</td>\n",
       "      <td>1.07</td>\n",
       "      <td>0.11</td>\n",
       "      <td>0.49</td>\n",
       "      <td>0.13</td>\n",
       "      <td>0.15</td>\n",
       "      <td>0.06</td>\n",
       "      <td>0.16</td>\n",
       "      <td>1</td>\n",
       "    </tr>\n",
       "    <tr>\n",
       "      <th>978</th>\n",
       "      <td>65</td>\n",
       "      <td>24.47</td>\n",
       "      <td>0.36</td>\n",
       "      <td>0.79</td>\n",
       "      <td>0.11</td>\n",
       "      <td>0.52</td>\n",
       "      <td>0.19</td>\n",
       "      <td>0.15</td>\n",
       "      <td>0.09</td>\n",
       "      <td>0.21</td>\n",
       "      <td>1</td>\n",
       "    </tr>\n",
       "    <tr>\n",
       "      <th>979</th>\n",
       "      <td>24</td>\n",
       "      <td>22.63</td>\n",
       "      <td>0.37</td>\n",
       "      <td>0.96</td>\n",
       "      <td>0.09</td>\n",
       "      <td>0.48</td>\n",
       "      <td>0.17</td>\n",
       "      <td>0.18</td>\n",
       "      <td>0.17</td>\n",
       "      <td>0.20</td>\n",
       "      <td>0</td>\n",
       "    </tr>\n",
       "    <tr>\n",
       "      <th>980</th>\n",
       "      <td>33</td>\n",
       "      <td>24.74</td>\n",
       "      <td>0.24</td>\n",
       "      <td>0.81</td>\n",
       "      <td>0.07</td>\n",
       "      <td>0.48</td>\n",
       "      <td>0.13</td>\n",
       "      <td>0.12</td>\n",
       "      <td>0.06</td>\n",
       "      <td>0.19</td>\n",
       "      <td>0</td>\n",
       "    </tr>\n",
       "    <tr>\n",
       "      <th>981</th>\n",
       "      <td>10</td>\n",
       "      <td>17.26</td>\n",
       "      <td>0.45</td>\n",
       "      <td>0.77</td>\n",
       "      <td>0.06</td>\n",
       "      <td>0.48</td>\n",
       "      <td>0.25</td>\n",
       "      <td>0.24</td>\n",
       "      <td>0.12</td>\n",
       "      <td>0.18</td>\n",
       "      <td>0</td>\n",
       "    </tr>\n",
       "  </tbody>\n",
       "</table>\n",
       "<p>982 rows × 11 columns</p>\n",
       "</div>"
      ],
      "text/plain": [
       "     total_games_owned  total_wins_per_hour  total_headshots_per_round  \\\n",
       "0                   79                17.19                       0.95   \n",
       "1                   12                17.55                       0.26   \n",
       "2                   88                22.48                       0.54   \n",
       "3                   57                16.32                       0.82   \n",
       "4                  242                23.18                       0.60   \n",
       "..                 ...                  ...                        ...   \n",
       "977                 38                23.80                       0.48   \n",
       "978                 65                24.47                       0.36   \n",
       "979                 24                22.63                       0.37   \n",
       "980                 33                24.74                       0.24   \n",
       "981                 10                17.26                       0.45   \n",
       "\n",
       "     kill_to_death_ratio  mvp_per_round  win_ratio  accuracy_tec9  \\\n",
       "0                   1.68           0.15       0.57           0.21   \n",
       "1                   0.65           0.05       0.46           0.19   \n",
       "2                   0.46           0.09       0.51           0.18   \n",
       "3                   1.04           0.08       0.52           0.16   \n",
       "4                   1.35           0.16       0.51           0.13   \n",
       "..                   ...            ...        ...            ...   \n",
       "977                 1.07           0.11       0.49           0.13   \n",
       "978                 0.79           0.11       0.52           0.19   \n",
       "979                 0.96           0.09       0.48           0.17   \n",
       "980                 0.81           0.07       0.48           0.13   \n",
       "981                 0.77           0.06       0.48           0.25   \n",
       "\n",
       "     accuracy_xm1014  accuracy_m249  accuracy_m4a1  VACBanned  \n",
       "0               0.22           0.15           0.19          0  \n",
       "1               0.09           0.13           0.10          1  \n",
       "2               0.20           0.19           0.13          1  \n",
       "3               0.17           0.16           0.21          1  \n",
       "4               0.27           0.15           0.23          1  \n",
       "..               ...            ...            ...        ...  \n",
       "977             0.15           0.06           0.16          1  \n",
       "978             0.15           0.09           0.21          1  \n",
       "979             0.18           0.17           0.20          0  \n",
       "980             0.12           0.06           0.19          0  \n",
       "981             0.24           0.12           0.18          0  \n",
       "\n",
       "[982 rows x 11 columns]"
      ]
     },
     "execution_count": 9,
     "metadata": {},
     "output_type": "execute_result"
    }
   ],
   "source": [
    "df = df[['total_games_owned', 'total_wins_per_hour', 'total_headshots_per_round',\n",
    "       'kill_to_death_ratio', 'mvp_per_round', 'win_ratio', 'accuracy_tec9',\n",
    "       'accuracy_xm1014', 'accuracy_m249', 'accuracy_m4a1', 'VACBanned']]\n",
    "df"
   ]
  },
  {
   "cell_type": "markdown",
   "id": "26311c4f",
   "metadata": {},
   "source": [
    "## Split into Train and test sets "
   ]
  },
  {
   "cell_type": "code",
   "execution_count": 10,
   "id": "a2a9645f",
   "metadata": {},
   "outputs": [
    {
     "name": "stdout",
     "output_type": "stream",
     "text": [
      "(736, 10) (246, 10) (736, 1) (246, 1)\n"
     ]
    }
   ],
   "source": [
    "X = df.loc[:, df.columns !='VACBanned'] #take all columns EXCEPT VACBanned Column\n",
    "y = df.loc[:, df.columns =='VACBanned'] #take only the VACBanned column\n",
    "X_train_pre_norm, X_test_pre_norm, y_train, y_test = train_test_split(X, y, test_size = 0.25) \n",
    "print(X_train_pre_norm.shape, X_test_pre_norm.shape, y_train.shape, y_test.shape)"
   ]
  },
  {
   "cell_type": "markdown",
   "id": "6c739264",
   "metadata": {},
   "source": [
    "### Normalize the data "
   ]
  },
  {
   "cell_type": "code",
   "execution_count": 11,
   "id": "fdbb3f96",
   "metadata": {},
   "outputs": [],
   "source": [
    "std_scale = preprocessing.StandardScaler().fit(X_train_pre_norm)\n",
    "X_train_array = std_scale.transform(X_train_pre_norm) \n",
    "X_train = pd.DataFrame(X_train_array, index = X_train_pre_norm.index, columns = X_train_pre_norm.columns)\n",
    "X_test_array = std_scale.transform(X_test_pre_norm)\n",
    "X_test = pd.DataFrame(X_test_array, index = X_test_pre_norm.index, columns = X_train_pre_norm.columns)"
   ]
  },
  {
   "cell_type": "markdown",
   "id": "c4954d9f",
   "metadata": {},
   "source": [
    "## Create Deep Learning Models "
   ]
  },
  {
   "cell_type": "code",
   "execution_count": 154,
   "id": "935630b4",
   "metadata": {},
   "outputs": [],
   "source": [
    "model = Sequential()\n",
    "model.add(Dense(16, input_shape=(X_train.shape[1],), activation='relu', kernel_initializer='he_normal'))\n",
    "model.add(Dense(8, activation='relu', kernel_initializer='he_normal'))\n",
    "model.add(Dense(1, activation='sigmoid'))\n",
    "model.compile(loss='binary_crossentropy', optimizer='adam', metrics=['accuracy'])"
   ]
  },
  {
   "cell_type": "code",
   "execution_count": 155,
   "id": "f9d6e2dc",
   "metadata": {},
   "outputs": [
    {
     "name": "stdout",
     "output_type": "stream",
     "text": [
      "dict_keys(['loss', 'accuracy', 'val_loss', 'val_accuracy'])\n"
     ]
    }
   ],
   "source": [
    "model_history = model.fit(X_train, y_train, validation_data=(X_test, y_test), epochs=10, batch_size=1, verbose=0)\n",
    "print(model_history.history.keys())"
   ]
  },
  {
   "cell_type": "markdown",
   "id": "27b5ccc6",
   "metadata": {},
   "source": [
    "## View Accuracy of the Model "
   ]
  },
  {
   "cell_type": "code",
   "execution_count": 156,
   "id": "675ecede",
   "metadata": {},
   "outputs": [
    {
     "name": "stdout",
     "output_type": "stream",
     "text": [
      "Accuracy of this model is: 0.7113820910453796\n"
     ]
    }
   ],
   "source": [
    "# Evaluate the model and view its accuracy\n",
    "loss, acc = model.evaluate(X_test, y_test, verbose = 0)\n",
    "print(f'Accuracy of this model is: {acc}')"
   ]
  },
  {
   "cell_type": "markdown",
   "id": "ffcec239",
   "metadata": {},
   "source": [
    "## Make 1 Prediction "
   ]
  },
  {
   "cell_type": "code",
   "execution_count": 157,
   "id": "8fc8bf1d",
   "metadata": {},
   "outputs": [
    {
     "name": "stdout",
     "output_type": "stream",
     "text": [
      "For Row: \n",
      "                                118\n",
      "total_games_owned         -0.646800\n",
      "total_wins_per_hour       -0.200784\n",
      "total_headshots_per_round  0.253327\n",
      "kill_to_death_ratio       -0.227785\n",
      "mvp_per_round              0.035311\n",
      "win_ratio                 -0.341683\n",
      "accuracy_tec9             -0.083097\n",
      "accuracy_xm1014           -1.194906\n",
      "accuracy_m249             -0.041091\n",
      "accuracy_m4a1             -0.392807\n",
      "1/1 [==============================] - 0s 76ms/step\n",
      "For this row the model predicted: 0.805443286895752\n",
      "The actual answer was: 1\n"
     ]
    }
   ],
   "source": [
    "# Make a prediction based on given input\n",
    "# View the actual values (these ones are after normalization)\n",
    "random_index = random.randint(0, len(X_test))\n",
    "print(f'For Row: \\n{X_test[random_index:random_index+1].transpose()}') \n",
    "actual_answer = y_test[random_index:random_index+1].values[0][0] # What is the actual answer for that row \n",
    "\n",
    "# What answer did the model predict for the selected row\n",
    "yhat = model.predict(X_test[random_index:random_index+1]) \n",
    "print(f'For this row the model predicted: {yhat[0][0]}')\n",
    "print(f'The actual answer was: {actual_answer}')"
   ]
  },
  {
   "cell_type": "markdown",
   "id": "de4d7fd6",
   "metadata": {},
   "source": [
    "## View The accuracy and loss "
   ]
  },
  {
   "cell_type": "code",
   "execution_count": 158,
   "id": "0f339483",
   "metadata": {},
   "outputs": [
    {
     "data": {
      "image/png": "[encoded data removed]",
      "text/plain": [
       "<Figure size 640x480 with 1 Axes>"
      ]
     },
     "metadata": {},
     "output_type": "display_data"
    }
   ],
   "source": [
    "# plot the summary history for accuracy\n",
    "plt.plot(model_history.history['accuracy'])\n",
    "plt.plot(model_history.history['val_accuracy'])\n",
    "plt.title('Model accuracy')\n",
    "plt.ylabel('accuracy')\n",
    "plt.xlabel('epoch')\n",
    "plt.legend(['Train', 'test'], loc = 'upper left')\n",
    "plt.show()\n",
    "# If test set accuracy (orange) is much lower than the train accuracy (blue) it could mean that there is overfitting\n",
    "# so decreasing number of epochs, batch size, number of layers in the model, number of neurons etc."
   ]
  },
  {
   "cell_type": "code",
   "execution_count": 159,
   "id": "994b78e0",
   "metadata": {},
   "outputs": [
    {
     "data": {
      "image/png": "[encoded data removed]",
      "text/plain": [
       "<Figure size 640x480 with 1 Axes>"
      ]
     },
     "metadata": {},
     "output_type": "display_data"
    }
   ],
   "source": [
    "#plot history for loss\n",
    "plt.plot(model_history.history['loss'])\n",
    "plt.plot(model_history.history['val_loss'])\n",
    "plt.title('Model Loss')\n",
    "plt.ylabel('Loss')\n",
    "plt.xlabel('epoch')\n",
    "plt.legend(['Train', 'Cross-Validation'], loc = 'upper left')\n",
    "plt.show()\n",
    "# Decreasing loss (decreasing blue line) means the model is learning. If the blue doesnt go all the way to the bottom\n",
    "# which means it is still learning so if we increase the number of epochs maybe it will keep learning more\n",
    "# If the cross-validation starts going up it means we're overfitting so decrease epochs, change batch_size etc."
   ]
  },
  {
   "cell_type": "markdown",
   "id": "6ebd0350",
   "metadata": {},
   "source": [
    "## View the accuracy with a Confusion Matrix "
   ]
  },
  {
   "cell_type": "code",
   "execution_count": 160,
   "id": "b71d0333",
   "metadata": {},
   "outputs": [
    {
     "name": "stdout",
     "output_type": "stream",
     "text": [
      "8/8 [==============================] - 0s 1ms/step\n"
     ]
    },
    {
     "data": {
      "text/plain": [
       "[Text(0, 0.5, 'Positive'), Text(0, 1.5, 'Negative')]"
      ]
     },
     "execution_count": 160,
     "metadata": {},
     "output_type": "execute_result"
    },
    {
     "data": {
      "image/png": "[encoded data removed]",
      "text/plain": [
       "<Figure size 640x480 with 2 Axes>"
      ]
     },
     "metadata": {},
     "output_type": "display_data"
    }
   ],
   "source": [
    "# Create a confusion matrix to see our results\n",
    "ax1 = plt.subplot()\n",
    "predict_results = model.predict(X_test)\n",
    "predict_results = (predict_results >= 0.5) # 0.5 is the threshold. Anything above 0.5 is 1, anything below is 0\n",
    "cm = confusion_matrix(y_test, predict_results)\n",
    "\n",
    "sns.heatmap(cm, annot=True, ax=ax1, fmt=\".1f\")\n",
    "\n",
    "ax1.set_xlabel('Predicted Labels');ax1.set_ylabel('True labels')\n",
    "ax1.set_title('Confusion Matrix')\n",
    "ax1.xaxis.set_ticklabels(['Positive', 'Negative']); ax1.yaxis.set_ticklabels(['Positive', 'Negative'])"
   ]
  },
  {
   "cell_type": "code",
   "execution_count": null,
   "id": "64cda177",
   "metadata": {},
   "outputs": [],
   "source": []
  },
  {
   "cell_type": "code",
   "execution_count": null,
   "id": "369ac6bb",
   "metadata": {},
   "outputs": [],
   "source": []
  }
 ],
 "metadata": {
  "kernelspec": {
   "display_name": "Python 3 (ipykernel)",
   "language": "python",
   "name": "python3"
  },
  "language_info": {
   "codemirror_mode": {
    "name": "ipython",
    "version": 3
   },
   "file_extension": ".py",
   "mimetype": "text/x-python",
   "name": "python",
   "nbconvert_exporter": "python",
   "pygments_lexer": "ipython3",
   "version": "3.8.10"
  }
 },
 "nbformat": 4,
 "nbformat_minor": 5
}
